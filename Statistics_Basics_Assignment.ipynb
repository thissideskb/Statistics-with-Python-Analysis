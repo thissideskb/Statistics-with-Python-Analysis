{
  "nbformat": 4,
  "nbformat_minor": 0,
  "metadata": {
    "colab": {
      "provenance": []
    },
    "kernelspec": {
      "name": "python3",
      "display_name": "Python 3"
    },
    "language_info": {
      "name": "python"
    }
  },
  "cells": [
    {
      "cell_type": "markdown",
      "source": [
        "Statistics"
      ],
      "metadata": {
        "id": "xRtCReebABw8"
      }
    },
    {
      "cell_type": "markdown",
      "source": [
        "# Question 1\n",
        "What is the difference between descriptive statistics and inferential statistics? Explain with examples.\n",
        "\n",
        "**Answer:**  \n",
        "Descriptive statistics help us summarize and describe data we already have, like calculating the average, median, or mode.  \n",
        "Example: Average marks of students in a class.\n",
        "\n",
        "Inferential statistics help us make predictions or conclusions about a larger group using a sample.  \n",
        "Example: Using marks of 50 students to predict average marks of all students in a school.\n",
        "\n",
        "In short, descriptive tells us “what is”, while inferential tells us “what might be”.\n",
        "\n",
        "# Question 2\n",
        "What is sampling in statistics? Explain the differences between random and stratified sampling.\n",
        "\n",
        "**Answer:**  \n",
        "Sampling means picking a small part of the population to study instead of the whole population.\n",
        "\n",
        "- **Random Sampling**: Everyone has an equal chance of being chosen.  \n",
        "  Example: Picking 10 people randomly from a list.\n",
        "\n",
        "- **Stratified Sampling**: Population is divided into groups, and we pick samples from each group.  \n",
        "  Example: Picking 5 boys and 5 girls from a class.\n",
        "\n",
        "Stratified is better when we want to make sure all groups are represented.\n",
        "\n",
        "# Question 3\n",
        "Define mean, median, and mode. Explain why these measures of central tendency are important.\n",
        "\n",
        "**Answer:**  \n",
        "- **Mean**: The average of all numbers.  \n",
        "- **Median**: The middle value after sorting.  \n",
        "- **Mode**: The number that appears most often.\n",
        "\n",
        "These help us find the center of the data and understand the overall trend.\n",
        "\n",
        "# Question 4\n",
        "Explain skewness and kurtosis. What does a positive skew imply about the data?\n",
        "\n",
        "**Answer:**  \n",
        "- **Skewness** shows if data is tilted left or right.  \n",
        "  A **positive skew** means most values are small, but there are a few big ones pulling the tail to the right.\n",
        "\n",
        "- **Kurtosis** shows if the data has sharp or flat peaks (outliers).\n",
        "\n",
        "So, if data is positively skewed, it means there are a few large values in the dataset.\n"
      ],
      "metadata": {
        "id": "GSbilIyeAMZM"
      }
    },
    {
      "cell_type": "code",
      "source": [
        "# Question 5\n",
        "# Implement a Python program to compute the mean, median, and mode of a given list of numbers.\n",
        "\n",
        "import numpy as np\n",
        "import statistics as stats\n",
        "\n",
        "numbers = [12, 15, 12, 18, 19, 12, 20, 22, 19, 19, 24, 24, 24, 26, 28]\n",
        "\n",
        "mean_val = np.mean(numbers)\n",
        "median_val = np.median(numbers)\n",
        "mode_val = stats.mode(numbers)\n",
        "\n",
        "print(\"Mean:\", mean_val)\n",
        "print(\"Median:\", median_val)\n",
        "print(\"Mode:\", mode_val)\n",
        "\n",
        "# Output explanation:\n",
        "# Mean: 19.6 → average of all values\n",
        "# Median: 19.0 → middle value\n",
        "# Mode: 12 → most frequent value"
      ],
      "metadata": {
        "colab": {
          "base_uri": "https://localhost:8080/"
        },
        "id": "0mm2DJEqALNl",
        "outputId": "7eda9230-4099-4c29-fdbb-cff9b9d82d32"
      },
      "execution_count": 1,
      "outputs": [
        {
          "output_type": "stream",
          "name": "stdout",
          "text": [
            "Mean: 19.6\n",
            "Median: 19.0\n",
            "Mode: 12\n"
          ]
        }
      ]
    },
    {
      "cell_type": "code",
      "source": [
        "# Question 6\n",
        "# Compute the covariance and correlation coefficient between the following two datasets.\n",
        "\n",
        "list_x = [10, 20, 30, 40, 50]\n",
        "list_y = [15, 25, 35, 45, 60]\n",
        "\n",
        "cov_matrix = np.cov(list_x, list_y, bias=False)\n",
        "covariance = cov_matrix[0][1]\n",
        "correlation = np.corrcoef(list_x, list_y)[0][1]\n",
        "\n",
        "print(\"Covariance:\", covariance)\n",
        "print(\"Correlation Coefficient:\", correlation)\n",
        "\n",
        "# Output explanation:\n",
        "# Covariance: 275.0 → shows positive relationship\n",
        "# Correlation ≈ 0.996 → strong linear relationship"
      ],
      "metadata": {
        "colab": {
          "base_uri": "https://localhost:8080/"
        },
        "id": "ODs4BeB7Ag9N",
        "outputId": "9fff2d16-0ed6-4890-bc72-5557e00d6168"
      },
      "execution_count": 2,
      "outputs": [
        {
          "output_type": "stream",
          "name": "stdout",
          "text": [
            "Covariance: 275.0\n",
            "Correlation Coefficient: 0.995893206467704\n"
          ]
        }
      ]
    },
    {
      "cell_type": "code",
      "source": [
        "# Question 7\n",
        "# Draw a boxplot for the given data and identify outliers.\n",
        "\n",
        "import matplotlib.pyplot as plt\n",
        "\n",
        "data = [12, 14, 14, 15, 18, 19, 19, 21, 22, 22, 23, 23, 24, 26, 29, 35]\n",
        "\n",
        "plt.boxplot(data)\n",
        "plt.title(\"Boxplot of Data\")\n",
        "plt.show()\n",
        "\n",
        "# Explanation:\n",
        "# The boxplot shows how data is spread.\n",
        "# 35 is likely to appear as an outlier since it is much higher than the rest."
      ],
      "metadata": {
        "colab": {
          "base_uri": "https://localhost:8080/",
          "height": 452
        },
        "id": "8Zismre-AmWF",
        "outputId": "0996f42d-605a-4d3d-8405-4e63a30d69b2"
      },
      "execution_count": 3,
      "outputs": [
        {
          "output_type": "display_data",
          "data": {
            "text/plain": [
              "<Figure size 640x480 with 1 Axes>"
            ],
            "image/png": "[encoded data removed]"
          },
          "metadata": {}
        }
      ]
    },
    {
      "cell_type": "code",
      "source": [
        "# Question 8\n",
        "# Check if there's a relationship between advertising spend and daily sales using correlation.\n",
        "\n",
        "advertising_spend = [200, 250, 300, 400, 500]\n",
        "daily_sales = [2200, 2450, 2750, 3200, 4000]\n",
        "\n",
        "correlation = np.corrcoef(advertising_spend, daily_sales)[0][1]\n",
        "\n",
        "print(\"Correlation between ad spend and sales:\", correlation)\n",
        "\n",
        "# Explanation:\n",
        "# Correlation ≈ 0.993 → means the more we spend on ads, the more sales we get."
      ],
      "metadata": {
        "colab": {
          "base_uri": "https://localhost:8080/"
        },
        "id": "i_f_Xb28ApeC",
        "outputId": "3cd6c078-5d14-44cf-ebfe-a02613a46fd3"
      },
      "execution_count": 4,
      "outputs": [
        {
          "output_type": "stream",
          "name": "stdout",
          "text": [
            "Correlation between ad spend and sales: 0.9935824101653329\n"
          ]
        }
      ]
    },
    {
      "cell_type": "code",
      "source": [
        "# Question 9\n",
        "# Use summary stats and histogram to understand survey score distribution.\n",
        "\n",
        "survey_scores = [7, 8, 5, 9, 6, 7, 8, 9, 10, 4, 7, 6, 9, 8, 7]\n",
        "\n",
        "mean_score = np.mean(survey_scores)\n",
        "std_dev = np.std(survey_scores)\n",
        "\n",
        "print(\"Mean Score:\", mean_score)\n",
        "print(\"Standard Deviation:\", std_dev)\n",
        "\n",
        "plt.hist(survey_scores, bins=6, edgecolor='black')\n",
        "plt.title(\"Survey Score Distribution\")\n",
        "plt.xlabel(\"Score\")\n",
        "plt.ylabel(\"Number of people\")\n",
        "plt.show()\n",
        "\n",
        "# Explanation:\n",
        "# Mean shows average satisfaction.\n",
        "# Standard deviation shows how spread out the scores are.\n",
        "# Histogram shows that most people gave scores between 6 and 9 — meaning they were satisfied."
      ],
      "metadata": {
        "colab": {
          "base_uri": "https://localhost:8080/",
          "height": 507
        },
        "id": "WnopiIcyArkM",
        "outputId": "eb014060-80dc-40c1-95ad-7bb97e9185a3"
      },
      "execution_count": 5,
      "outputs": [
        {
          "output_type": "stream",
          "name": "stdout",
          "text": [
            "Mean Score: 7.333333333333333\n",
            "Standard Deviation: 1.577621275493231\n"
          ]
        },
        {
          "output_type": "display_data",
          "data": {
            "text/plain": [
              "<Figure size 640x480 with 1 Axes>"
            ],
            "image/png": "[encoded data removed]"
          },
          "metadata": {}
        }
      ]
    },
    {
      "cell_type": "code",
      "source": [],
      "metadata": {
        "id": "p68uvXD2AtnH"
      },
      "execution_count": null,
      "outputs": []
    }
  ]
}